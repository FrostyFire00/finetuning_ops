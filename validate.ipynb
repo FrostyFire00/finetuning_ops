{
  "nbformat": 4,
  "nbformat_minor": 0,
  "metadata": {
    "colab": {
      "provenance": [],
      "authorship_tag": "ABX9TyMr8kLJNrURDB2J8cKjfGoo",
      "include_colab_link": true
    },
    "kernelspec": {
      "name": "python3",
      "display_name": "Python 3"
    },
    "language_info": {
      "name": "python"
    }
  },
  "cells": [
    {
      "cell_type": "markdown",
      "metadata": {
        "id": "view-in-github",
        "colab_type": "text"
      },
      "source": [
        "<a href=\"https://colab.research.google.com/github/FrostyFire00/finetuning_ops/blob/main/validate.ipynb\" target=\"_parent\"><img src=\"https://colab.research.google.com/assets/colab-badge.svg\" alt=\"Open In Colab\"/></a>"
      ]
    },
    {
      "cell_type": "code",
      "execution_count": null,
      "metadata": {
        "id": "yWI30_q3LlZd",
        "colab": {
          "base_uri": "https://localhost:8080/"
        },
        "outputId": "a7d0dfe9-e332-4d2a-e1b3-2b3a8c4e2d8e"
      },
      "outputs": [
        {
          "output_type": "stream",
          "name": "stdout",
          "text": [
            "Drive already mounted at /content/drive; to attempt to forcibly remount, call drive.mount(\"/content/drive\", force_remount=True).\n"
          ]
        }
      ],
      "source": [
        "import json\n",
        "from collections import defaultdict\n",
        "\n",
        "from google.colab import drive\n",
        "drive.mount('/content/drive')"
      ]
    },
    {
      "cell_type": "code",
      "source": [
        "data_path = \"/content/drive/My Drive/Colab Files/data.jsonl\""
      ],
      "metadata": {
        "id": "-PR9i2r-1Sqo"
      },
      "execution_count": null,
      "outputs": []
    },
    {
      "cell_type": "code",
      "source": [
        "# Load the dataset\n",
        "with open(data_path, 'r', encoding='utf-8') as f:\n",
        "  dataset = [json.loads(line) for line in f]\n",
        "\n",
        "# Initial dataset stats\n",
        "print(\"Num examples:\", len(dataset))\n",
        "\n",
        "# Format error checks\n",
        "format_errors = defaultdict(int)\n",
        "\n",
        "for ex in dataset:\n",
        "  if not isinstance(ex, dict):\n",
        "    format_errors[\"data_type\"] += 1\n",
        "    continue\n",
        "\n",
        "  messages = ex.get(\"messages\", None)\n",
        "  if not messages:\n",
        "    format_errors[\"missing_messages_list\"] += 1\n",
        "    continue\n",
        "\n",
        "  for message in messages:\n",
        "    if \"role\" not in message or \"content\" not in message:\n",
        "      format_errors[\"message_missing_key\"] += 1\n",
        "\n",
        "    if any(k not in (\"role\", \"content\", \"name\", \"function_call\") for k in message):\n",
        "      format_errors[\"message_unrecognized_key\"] += 1\n",
        "\n",
        "    if message.get(\"role\", None) not in (\"system\", \"user\", \"assistant\", \"function\"):\n",
        "      format_errors[\"unrecognized_role\"] += 1\n",
        "\n",
        "    content = message.get(\"content\", None)\n",
        "    function_call = message.get(\"function_call\", None)\n",
        "\n",
        "    if (not content and not function_call) or not isinstance(content, str):\n",
        "      format_errors[\"missing_content\"] += 1\n",
        "\n",
        "  if not any(message.get(\"role\", None) == \"assistant\" for message in messages):\n",
        "    format_errors[\"example_missing_assistant_message\"] += 1\n",
        "\n",
        "if format_errors:\n",
        "  print(\"Found errors:\")\n",
        "  for k, v in format_errors.items():\n",
        "    print(f\"{k}: {v}\")\n",
        "else:\n",
        "  print(\"No errors found\")"
      ],
      "metadata": {
        "colab": {
          "base_uri": "https://localhost:8080/"
        },
        "id": "ZQBJX2B90k3p",
        "outputId": "ac17d639-c28f-4732-a017-63042694e7c2"
      },
      "execution_count": null,
      "outputs": [
        {
          "output_type": "stream",
          "name": "stdout",
          "text": [
            "Num examples: 80\n",
            "No errors found\n"
          ]
        }
      ]
    }
  ]
}