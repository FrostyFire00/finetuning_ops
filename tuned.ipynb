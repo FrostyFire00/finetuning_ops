{
  "nbformat": 4,
  "nbformat_minor": 0,
  "metadata": {
    "colab": {
      "provenance": [],
      "authorship_tag": "ABX9TyP0Tlm4PMJ10BvRC5dzuWBK",
      "include_colab_link": true
    },
    "kernelspec": {
      "name": "python3",
      "display_name": "Python 3"
    },
    "language_info": {
      "name": "python"
    }
  },
  "cells": [
    {
      "cell_type": "markdown",
      "metadata": {
        "id": "view-in-github",
        "colab_type": "text"
      },
      "source": [
        "<a href=\"https://colab.research.google.com/github/FrostyFire00/finetuning_ops/blob/main/tuned.ipynb\" target=\"_parent\"><img src=\"https://colab.research.google.com/assets/colab-badge.svg\" alt=\"Open In Colab\"/></a>"
      ]
    },
    {
      "cell_type": "code",
      "source": [
        "!pip install openai"
      ],
      "metadata": {
        "colab": {
          "base_uri": "https://localhost:8080/"
        },
        "id": "XWlKMT8zbP0E",
        "outputId": "2ac0d4e6-7ebd-411c-c13c-77e37db0a40b"
      },
      "execution_count": null,
      "outputs": [
        {
          "output_type": "stream",
          "name": "stdout",
          "text": [
            "Collecting openai\n",
            "  Downloading openai-1.41.0-py3-none-any.whl.metadata (22 kB)\n",
            "Requirement already satisfied: anyio<5,>=3.5.0 in /usr/local/lib/python3.10/dist-packages (from openai) (3.7.1)\n",
            "Requirement already satisfied: distro<2,>=1.7.0 in /usr/lib/python3/dist-packages (from openai) (1.7.0)\n",
            "Collecting httpx<1,>=0.23.0 (from openai)\n",
            "  Downloading httpx-0.27.0-py3-none-any.whl.metadata (7.2 kB)\n",
            "Collecting jiter<1,>=0.4.0 (from openai)\n",
            "  Downloading jiter-0.5.0-cp310-cp310-manylinux_2_17_x86_64.manylinux2014_x86_64.whl.metadata (3.6 kB)\n",
            "Requirement already satisfied: pydantic<3,>=1.9.0 in /usr/local/lib/python3.10/dist-packages (from openai) (2.8.2)\n",
            "Requirement already satisfied: sniffio in /usr/local/lib/python3.10/dist-packages (from openai) (1.3.1)\n",
            "Requirement already satisfied: tqdm>4 in /usr/local/lib/python3.10/dist-packages (from openai) (4.66.5)\n",
            "Requirement already satisfied: typing-extensions<5,>=4.11 in /usr/local/lib/python3.10/dist-packages (from openai) (4.12.2)\n",
            "Requirement already satisfied: idna>=2.8 in /usr/local/lib/python3.10/dist-packages (from anyio<5,>=3.5.0->openai) (3.7)\n",
            "Requirement already satisfied: exceptiongroup in /usr/local/lib/python3.10/dist-packages (from anyio<5,>=3.5.0->openai) (1.2.2)\n",
            "Requirement already satisfied: certifi in /usr/local/lib/python3.10/dist-packages (from httpx<1,>=0.23.0->openai) (2024.7.4)\n",
            "Collecting httpcore==1.* (from httpx<1,>=0.23.0->openai)\n",
            "  Downloading httpcore-1.0.5-py3-none-any.whl.metadata (20 kB)\n",
            "Collecting h11<0.15,>=0.13 (from httpcore==1.*->httpx<1,>=0.23.0->openai)\n",
            "  Downloading h11-0.14.0-py3-none-any.whl.metadata (8.2 kB)\n",
            "Requirement already satisfied: annotated-types>=0.4.0 in /usr/local/lib/python3.10/dist-packages (from pydantic<3,>=1.9.0->openai) (0.7.0)\n",
            "Requirement already satisfied: pydantic-core==2.20.1 in /usr/local/lib/python3.10/dist-packages (from pydantic<3,>=1.9.0->openai) (2.20.1)\n",
            "Downloading openai-1.41.0-py3-none-any.whl (362 kB)\n",
            "\u001b[2K   \u001b[90m━━━━━━━━━━━━━━━━━━━━━━━━━━━━━━━━━━━━━━━━\u001b[0m \u001b[32m362.4/362.4 kB\u001b[0m \u001b[31m9.7 MB/s\u001b[0m eta \u001b[36m0:00:00\u001b[0m\n",
            "\u001b[?25hDownloading httpx-0.27.0-py3-none-any.whl (75 kB)\n",
            "\u001b[2K   \u001b[90m━━━━━━━━━━━━━━━━━━━━━━━━━━━━━━━━━━━━━━━━\u001b[0m \u001b[32m75.6/75.6 kB\u001b[0m \u001b[31m4.7 MB/s\u001b[0m eta \u001b[36m0:00:00\u001b[0m\n",
            "\u001b[?25hDownloading httpcore-1.0.5-py3-none-any.whl (77 kB)\n",
            "\u001b[2K   \u001b[90m━━━━━━━━━━━━━━━━━━━━━━━━━━━━━━━━━━━━━━━━\u001b[0m \u001b[32m77.9/77.9 kB\u001b[0m \u001b[31m5.1 MB/s\u001b[0m eta \u001b[36m0:00:00\u001b[0m\n",
            "\u001b[?25hDownloading jiter-0.5.0-cp310-cp310-manylinux_2_17_x86_64.manylinux2014_x86_64.whl (318 kB)\n",
            "\u001b[2K   \u001b[90m━━━━━━━━━━━━━━━━━━━━━━━━━━━━━━━━━━━━━━━━\u001b[0m \u001b[32m318.9/318.9 kB\u001b[0m \u001b[31m19.5 MB/s\u001b[0m eta \u001b[36m0:00:00\u001b[0m\n",
            "\u001b[?25hDownloading h11-0.14.0-py3-none-any.whl (58 kB)\n",
            "\u001b[2K   \u001b[90m━━━━━━━━━━━━━━━━━━━━━━━━━━━━━━━━━━━━━━━━\u001b[0m \u001b[32m58.3/58.3 kB\u001b[0m \u001b[31m3.6 MB/s\u001b[0m eta \u001b[36m0:00:00\u001b[0m\n",
            "\u001b[?25hInstalling collected packages: jiter, h11, httpcore, httpx, openai\n",
            "Successfully installed h11-0.14.0 httpcore-1.0.5 httpx-0.27.0 jiter-0.5.0 openai-1.41.0\n"
          ]
        }
      ]
    },
    {
      "cell_type": "code",
      "execution_count": null,
      "metadata": {
        "colab": {
          "base_uri": "https://localhost:8080/"
        },
        "id": "The71pera6vy",
        "outputId": "4809126a-bbf1-441f-bda1-686fdf48c4ae"
      },
      "outputs": [
        {
          "output_type": "stream",
          "name": "stdout",
          "text": [
            "Ask me anything: Failure to start Nginx Ingress Controller on Kubernetes.\n",
            "ChatCompletion(id='chatcmpl-9x9TzML85w6miAPsPTb5YoeOGz8tK', choices=[Choice(finish_reason='stop', index=0, logprobs=None, message=ChatCompletionMessage(content='{  \"investigation\": {    \"steps\": [      {        \"description\": \"Check the status of the Nginx Ingress Controller pod\",        \"command\": \"kubectl get pods -n <namespace>\"      },      {        \"description\": \"Check the logs of the Nginx Ingress Controller pod\",        \"command\": \"kubectl logs <pod_name> -n <namespace>\"      },      {        \"description\": \"Check the events related to the Nginx Ingress Controller pod\",        \"command\": \"kubectl describe pod <pod_name> -n <namespace>\"      },      {        \"description\": \"Check the status of the Nginx Ingress Controller service\",        \"command\": \"kubectl get svc -n <namespace>\"      },      {        \"description\": \"Check the status of the Nginx Ingress Controller deployment\",        \"command\": \"kubectl get deployment -n <namespace>\"      },      {        \"description\": \"Check the configuration of the Nginx Ingress Controller\",        \"command\": \"kubectl get configmap -n <namespace>\"      },      {        \"description\": \"Check the status of the Kubernetes nodes and ensure they are in a ready state\",        \"command\": \"kubectl get nodes\"      }    ]  },  \"remediation\": {    \"steps\": [      {        \"description\": \"Check the Nginx Ingress Controller configuration for any errors or misconfigurations\",        \"command\": \"kubectl get configmap -n <namespace> <configmap_name> -o yaml\"      },      {        \"description\": \"Check the resource limits and requests for the Nginx Ingress Controller pod to ensure they are not too high or too low\",        \"command\": \"kubectl describe pod <pod_name> -n <namespace> | grep -A 3 \\'Containers\\'\"      },      {        \"description\": \"Check the status of the Kubernetes nodes and ensure they are in a ready state\",        \"command\": \"kubectl get nodes\"      }    ]  }}\\n', refusal=None, role='assistant', function_call=None, tool_calls=None))], created=1723884831, model='ft:gpt-3.5-turbo-0125:personal::9x8uIa56', object='chat.completion', service_tier=None, system_fingerprint=None, usage=CompletionUsage(completion_tokens=428, prompt_tokens=19, total_tokens=447))\n"
          ]
        }
      ],
      "source": [
        "import os\n",
        "from openai import OpenAI\n",
        "\n",
        "client = OpenAI(\n",
        "  api_key= \"API_KEY\"\n",
        ")\n",
        "\n",
        "question = input(\"Ask me anything: \")\n",
        "\n",
        "response = client.chat.completions.create(\n",
        "  messages=[\n",
        "    {\n",
        "      \"role\": \"user\",\n",
        "      \"content\": question\n",
        "    }\n",
        "  ],\n",
        "  model=\"ft:gpt-3.5-turbo-0125:personal::9x8uIa56\",\n",
        "  temperature=0,\n",
        "  max_tokens=1024,\n",
        "  n=1,\n",
        "  stop=None\n",
        ")\n",
        "\n",
        "print(response)"
      ]
    }
  ]
}