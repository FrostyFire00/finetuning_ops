{
  "nbformat": 4,
  "nbformat_minor": 0,
  "metadata": {
    "colab": {
      "provenance": [],
      "mount_file_id": "1EtV0cv9vHDZjM6J7QJvXnJi-5-ZCNqev",
      "authorship_tag": "ABX9TyOhIXfZglzG7jWzKcmGA/ZB",
      "include_colab_link": true
    },
    "kernelspec": {
      "name": "python3",
      "display_name": "Python 3"
    },
    "language_info": {
      "name": "python"
    }
  },
  "cells": [
    {
      "cell_type": "markdown",
      "metadata": {
        "id": "view-in-github",
        "colab_type": "text"
      },
      "source": [
        "<a href=\"https://colab.research.google.com/github/FrostyFire00/finetuning_ops/blob/main/reformat.ipynb\" target=\"_parent\"><img src=\"https://colab.research.google.com/assets/colab-badge.svg\" alt=\"Open In Colab\"/></a>"
      ]
    },
    {
      "cell_type": "code",
      "execution_count": null,
      "metadata": {
        "id": "pvb2zttlxuCW"
      },
      "outputs": [],
      "source": [
        "import json\n",
        "import os"
      ]
    },
    {
      "cell_type": "code",
      "source": [
        "superList = []\n",
        "os.getcwd()"
      ],
      "metadata": {
        "id": "uEgv_4iCzbbu",
        "colab": {
          "base_uri": "https://localhost:8080/",
          "height": 35
        },
        "outputId": "02e20f54-ba47-4967-e0b8-e5664d790206"
      },
      "execution_count": null,
      "outputs": [
        {
          "output_type": "execute_result",
          "data": {
            "text/plain": [
              "'/content'"
            ],
            "application/vnd.google.colaboratory.intrinsic+json": {
              "type": "string"
            }
          },
          "metadata": {},
          "execution_count": 7
        }
      ]
    },
    {
      "cell_type": "code",
      "source": [
        "rawData = open(\"/content/drive/My Drive/Colab Files/intern_ft_project.txt\", \"r\")\n",
        "lists = rawData.readlines()"
      ],
      "metadata": {
        "id": "Xm8eW3lnx4HC"
      },
      "execution_count": null,
      "outputs": []
    },
    {
      "cell_type": "code",
      "source": [
        "from google.colab import drive\n",
        "drive.mount('/content/drive')"
      ],
      "metadata": {
        "id": "1Ip7UozHfxIp",
        "colab": {
          "base_uri": "https://localhost:8080/"
        },
        "outputId": "88fec3ed-20f1-4a4c-eb78-76ac1b709e82"
      },
      "execution_count": null,
      "outputs": [
        {
          "output_type": "stream",
          "name": "stdout",
          "text": [
            "Drive already mounted at /content/drive; to attempt to forcibly remount, call drive.mount(\"/content/drive\", force_remount=True).\n"
          ]
        }
      ]
    },
    {
      "cell_type": "code",
      "source": [
        "sysmsg = lists[1]\n",
        "sysmsg"
      ],
      "metadata": {
        "colab": {
          "base_uri": "https://localhost:8080/",
          "height": 70
        },
        "id": "DKnyPXaX3Dx7",
        "outputId": "c8186455-3f5e-444b-dd89-fda42b906774"
      },
      "execution_count": null,
      "outputs": [
        {
          "output_type": "execute_result",
          "data": {
            "text/plain": [
              "'You are a helpful assistant who is an expert in Kubernetes troubleshooting and can help developers with step by step suggestions about how to investigate and solve Kubernetes problems.\\n'"
            ],
            "application/vnd.google.colaboratory.intrinsic+json": {
              "type": "string"
            }
          },
          "metadata": {},
          "execution_count": 10
        }
      ]
    },
    {
      "cell_type": "code",
      "source": [
        "for i in range(3, len(lists)):\n",
        "  rts = lists[i].split(\"\t```json\")\n",
        "  #temp = {\"messages\": [{\"role\": \"system\", \"content\": sysmsg}, {\"role\": \"user\", \"content\": rts[0]}, {\"role\": \"assistant\", \"content\": rts[1]}]}\n",
        "  superList.append({\"messages\": [{\"role\": \"system\", \"content\": sysmsg}, {\"role\": \"user\", \"content\": rts[0]}, {\"role\": \"assistant\", \"content\": rts[1]}]})"
      ],
      "metadata": {
        "id": "peFySC-r4FEO"
      },
      "execution_count": null,
      "outputs": []
    },
    {
      "cell_type": "code",
      "source": [
        "with open('data.jsonl', 'w') as file:\n",
        "    for line in superList:\n",
        "      json.dump(line, file)\n",
        "      file.write('\\n')\n"
      ],
      "metadata": {
        "id": "U6T-TBB19hD8"
      },
      "execution_count": null,
      "outputs": []
    }
  ]
}